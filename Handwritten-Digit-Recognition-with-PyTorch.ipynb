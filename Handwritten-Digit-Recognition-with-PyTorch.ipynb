{
  "cells": [
    {
      "cell_type": "code",
      "execution_count": null,
      "metadata": {
        "colab": {
          "base_uri": "https://localhost:8080/"
        },
        "id": "KXpZ2rCAcXVq",
        "outputId": "0bd34a4d-abc1-4582-b811-2e165c83936d"
      },
      "outputs": [
        {
          "name": "stdout",
          "output_type": "stream",
          "text": [
            "Requirement already satisfied: torch in /usr/local/lib/python3.10/dist-packages (2.4.1+cu121)\n",
            "Requirement already satisfied: torchvision in /usr/local/lib/python3.10/dist-packages (0.19.1+cu121)\n",
            "Requirement already satisfied: matplotlib in /usr/local/lib/python3.10/dist-packages (3.7.1)\n",
            "Requirement already satisfied: filelock in /usr/local/lib/python3.10/dist-packages (from torch) (3.16.0)\n",
            "Requirement already satisfied: typing-extensions>=4.8.0 in /usr/local/lib/python3.10/dist-packages (from torch) (4.12.2)\n",
            "Requirement already satisfied: sympy in /usr/local/lib/python3.10/dist-packages (from torch) (1.13.2)\n",
            "Requirement already satisfied: networkx in /usr/local/lib/python3.10/dist-packages (from torch) (3.3)\n",
            "Requirement already satisfied: jinja2 in /usr/local/lib/python3.10/dist-packages (from torch) (3.1.4)\n",
            "Requirement already satisfied: fsspec in /usr/local/lib/python3.10/dist-packages (from torch) (2024.6.1)\n",
            "Requirement already satisfied: numpy in /usr/local/lib/python3.10/dist-packages (from torchvision) (1.26.4)\n",
            "Requirement already satisfied: pillow!=8.3.*,>=5.3.0 in /usr/local/lib/python3.10/dist-packages (from torchvision) (10.4.0)\n",
            "Requirement already satisfied: contourpy>=1.0.1 in /usr/local/lib/python3.10/dist-packages (from matplotlib) (1.3.0)\n",
            "Requirement already satisfied: cycler>=0.10 in /usr/local/lib/python3.10/dist-packages (from matplotlib) (0.12.1)\n",
            "Requirement already satisfied: fonttools>=4.22.0 in /usr/local/lib/python3.10/dist-packages (from matplotlib) (4.53.1)\n",
            "Requirement already satisfied: kiwisolver>=1.0.1 in /usr/local/lib/python3.10/dist-packages (from matplotlib) (1.4.7)\n",
            "Requirement already satisfied: packaging>=20.0 in /usr/local/lib/python3.10/dist-packages (from matplotlib) (24.1)\n",
            "Requirement already satisfied: pyparsing>=2.3.1 in /usr/local/lib/python3.10/dist-packages (from matplotlib) (3.1.4)\n",
            "Requirement already satisfied: python-dateutil>=2.7 in /usr/local/lib/python3.10/dist-packages (from matplotlib) (2.8.2)\n",
            "Requirement already satisfied: six>=1.5 in /usr/local/lib/python3.10/dist-packages (from python-dateutil>=2.7->matplotlib) (1.16.0)\n",
            "Requirement already satisfied: MarkupSafe>=2.0 in /usr/local/lib/python3.10/dist-packages (from jinja2->torch) (2.1.5)\n",
            "Requirement already satisfied: mpmath<1.4,>=1.1.0 in /usr/local/lib/python3.10/dist-packages (from sympy->torch) (1.3.0)\n"
          ]
        }
      ],
      "source": [
        "!pip3 install torch torchvision matplotlib\n"
      ]
    },
    {
      "cell_type": "code",
      "execution_count": 1,
      "metadata": {
        "id": "TNzYkbLMYkHa"
      },
      "outputs": [],
      "source": [
        "from torchvision import datasets\n",
        "#ToTensor takes images and turns it into tensors\n",
        "from torchvision import transforms\n",
        "import matplotlib.pyplot as plt"
      ]
    },
    {
      "cell_type": "code",
      "source": [
        "transform = transforms.Compose([\n",
        "    transforms.ToTensor()\n",
        "])"
      ],
      "metadata": {
        "id": "6nIGmb9g8nd9"
      },
      "execution_count": 2,
      "outputs": []
    },
    {
      "cell_type": "code",
      "execution_count": 3,
      "metadata": {
        "id": "-jbUhNBlbJfB"
      },
      "outputs": [],
      "source": [
        "train_data = dataset = datasets.MNIST(\n",
        "    root = 'data',\n",
        "    train = True,\n",
        "    transform = transform,\n",
        "    download = True\n",
        ")\n",
        "test_data = dataset = datasets.MNIST(\n",
        "    root = 'data',\n",
        "    train = False,\n",
        "    transform = transform,\n",
        "    download = True\n",
        ")"
      ]
    },
    {
      "cell_type": "code",
      "execution_count": 4,
      "metadata": {
        "colab": {
          "base_uri": "https://localhost:8080/"
        },
        "id": "mbCIBfFMfjU1",
        "outputId": "77a17009-aca5-4070-ac83-b4f9061190b5"
      },
      "outputs": [
        {
          "output_type": "execute_result",
          "data": {
            "text/plain": [
              "Dataset MNIST\n",
              "    Number of datapoints: 60000\n",
              "    Root location: data\n",
              "    Split: Train\n",
              "    StandardTransform\n",
              "Transform: Compose(\n",
              "               ToTensor()\n",
              "           )"
            ]
          },
          "metadata": {},
          "execution_count": 4
        }
      ],
      "source": [
        "train_data"
      ]
    },
    {
      "cell_type": "code",
      "execution_count": 5,
      "metadata": {
        "colab": {
          "base_uri": "https://localhost:8080/"
        },
        "id": "aDD6-00MfkIw",
        "outputId": "3694d14c-a6c0-4b70-c8d6-a8e3b541f051"
      },
      "outputs": [
        {
          "output_type": "execute_result",
          "data": {
            "text/plain": [
              "Dataset MNIST\n",
              "    Number of datapoints: 10000\n",
              "    Root location: data\n",
              "    Split: Test\n",
              "    StandardTransform\n",
              "Transform: Compose(\n",
              "               ToTensor()\n",
              "           )"
            ]
          },
          "metadata": {},
          "execution_count": 5
        }
      ],
      "source": [
        "test_data"
      ]
    },
    {
      "cell_type": "code",
      "execution_count": 6,
      "metadata": {
        "colab": {
          "base_uri": "https://localhost:8080/"
        },
        "id": "dr4gcMgFfkow",
        "outputId": "08c83cb4-0536-45ee-f0b7-553503ad95f6"
      },
      "outputs": [
        {
          "output_type": "execute_result",
          "data": {
            "text/plain": [
              "torch.Size([60000, 28, 28])"
            ]
          },
          "metadata": {},
          "execution_count": 6
        }
      ],
      "source": [
        "train_data.data.shape"
      ]
    },
    {
      "cell_type": "code",
      "source": [
        "test_data.targets.size()"
      ],
      "metadata": {
        "id": "0cmHaoNxDpwI",
        "outputId": "3760c73a-b563-4762-a6e9-cd587ec84c85",
        "colab": {
          "base_uri": "https://localhost:8080/"
        }
      },
      "execution_count": 22,
      "outputs": [
        {
          "output_type": "execute_result",
          "data": {
            "text/plain": [
              "torch.Size([10000])"
            ]
          },
          "metadata": {},
          "execution_count": 22
        }
      ]
    },
    {
      "cell_type": "code",
      "execution_count": 7,
      "metadata": {
        "colab": {
          "base_uri": "https://localhost:8080/"
        },
        "id": "c2s_C0w5fY0F",
        "outputId": "56e46b83-898c-4b3a-a3e5-09481821b7c3"
      },
      "outputs": [
        {
          "output_type": "execute_result",
          "data": {
            "text/plain": [
              "torch.Size([60000])"
            ]
          },
          "metadata": {},
          "execution_count": 7
        }
      ],
      "source": [
        "train_data.targets.size()"
      ]
    },
    {
      "cell_type": "code",
      "execution_count": 8,
      "metadata": {
        "colab": {
          "base_uri": "https://localhost:8080/"
        },
        "id": "JasqeigJfrIk",
        "outputId": "23a1378c-96b6-432f-f5ab-f039dcd32d8b"
      },
      "outputs": [
        {
          "output_type": "execute_result",
          "data": {
            "text/plain": [
              "tensor([5, 0, 4,  ..., 5, 6, 8])"
            ]
          },
          "metadata": {},
          "execution_count": 8
        }
      ],
      "source": [
        "train_data.targets"
      ]
    },
    {
      "cell_type": "code",
      "execution_count": 9,
      "metadata": {
        "id": "C4__VDpbfs3t"
      },
      "outputs": [],
      "source": [
        "## load the data in batches , shuffle it ..\n",
        "from torch.utils.data import  DataLoader\n",
        "loaders = {\n",
        "    'train' : DataLoader(train_data,\n",
        "                         batch_size = 100,\n",
        "                         shuffle = True,\n",
        "                         num_workers = 1),\n",
        "    'test' : DataLoader(test_data,\n",
        "                         batch_size = 100,\n",
        "                         shuffle = True,\n",
        "                         num_workers = 1)\n",
        "}"
      ]
    },
    {
      "cell_type": "code",
      "execution_count": 10,
      "metadata": {
        "colab": {
          "base_uri": "https://localhost:8080/"
        },
        "id": "JzjH2J5lfu8y",
        "outputId": "8e0bcf57-f1da-4afc-edcd-1ad30d60174a"
      },
      "outputs": [
        {
          "output_type": "execute_result",
          "data": {
            "text/plain": [
              "{'train': <torch.utils.data.dataloader.DataLoader at 0x7e9834411660>,\n",
              " 'test': <torch.utils.data.dataloader.DataLoader at 0x7e98344116f0>}"
            ]
          },
          "metadata": {},
          "execution_count": 10
        }
      ],
      "source": [
        "loaders"
      ]
    },
    {
      "cell_type": "code",
      "execution_count": 11,
      "metadata": {
        "id": "hWzX0A4tfz-q"
      },
      "outputs": [],
      "source": [
        "## define the model architecture\n",
        "import torch.nn as nn\n",
        "import torch.nn.functional as F\n",
        "import torch.optim as optim\n",
        "\n",
        "class CNN(nn.Module):\n",
        "\n",
        "    def __init__(self):\n",
        "        super(CNN,self).__init__()\n",
        "\n",
        "        self.conv1 = nn.Conv2d(1, 10, kernel_size = 5)\n",
        "        self.conv2 = nn.Conv2d(10, 20, kernel_size = 5)\n",
        "        self.conv2_drop = nn.Dropout2d()\n",
        "        self.fc1 = nn.Linear(320, 50)\n",
        "        self.fc2 = nn.Linear(50,10)\n",
        "\n",
        "    #forward function to define the activations\n",
        "    def forward(self , x):\n",
        "        x = F.relu(F.max_pool2d(self.conv1(x), 2))\n",
        "        x = F.relu(F.max_pool2d(self.conv2_drop(self.conv2(x)), 2))\n",
        "        #flatten the data\n",
        "        x = x.view(-1, 320)\n",
        "        x = F.relu(self.fc1(x))\n",
        "        x = F.dropout(x, training=self.training)\n",
        "        x = self.fc2(x)\n",
        "\n",
        "        return F.softmax(x)\n",
        "\n",
        "\n"
      ]
    },
    {
      "cell_type": "code",
      "execution_count": 12,
      "metadata": {
        "id": "qRhGgVe5f2jX"
      },
      "outputs": [],
      "source": [
        "## optimize the model\n",
        "import torch\n",
        "\n",
        "device = torch.device('cuda' if torch.cuda.is_available() else 'cpu')\n",
        "model = CNN().to(device)\n",
        "#define the Adam's optimizer\n",
        "optimizer = optim.Adam(model.parameters(), lr= 0.001)\n",
        "#define the loss function\n",
        "loss_fn = nn.CrossEntropyLoss()\n",
        "\n",
        "#the training process\n",
        "def train(epoch):\n",
        "    model.train()\n",
        "    for batch_index , (data, target) in enumerate(loaders['train']):\n",
        "        data, target = data.to(device), target.to(device)\n",
        "        #set the gradient to zero\n",
        "        optimizer.zero_grad()\n",
        "        output = model(data)\n",
        "        #calculate the loss\n",
        "        loss = loss_fn(output, target)\n",
        "        #store gradients and optimize\n",
        "        loss.backward()\n",
        "        optimizer.step()\n",
        "        if batch_index % 20 == 0:\n",
        "            print(f'Train epoch : {epoch} [{batch_index * len(data)}/{len(loaders[\"train\"].dataset)}({100. * batch_index / len(loaders[\"train\"]):.0f}%)]\\t{loss.item():.6f}')\n",
        "\n",
        "\n",
        "def test():\n",
        "    model.eval()\n",
        "    test_loss = 0\n",
        "    correct = 0\n",
        "\n",
        "    with torch.no_grad():\n",
        "        for data, target in loaders['test']:\n",
        "            data, target = data.to(device) , target.to(device)\n",
        "            output = model(data)\n",
        "            test_loss = loss_fn(output, target).item()\n",
        "            pred = output.argmax(dim=1, keepdim=True)\n",
        "            correct += pred.eq(target.view_as(pred)).sum().item()\n",
        "\n",
        "    test_loss /= len(loaders['test'].dataset)\n",
        "    print(f'\\n Test set: average loss: {test_loss:.4f}, accuracy {correct}/{len(loaders[\"test\"].dataset)} ({100. * correct / len(loaders[\"test\"].dataset):.0f}%)\\n')\n"
      ]
    },
    {
      "cell_type": "code",
      "execution_count": 13,
      "metadata": {
        "id": "NXO9JFMkgYF1",
        "colab": {
          "base_uri": "https://localhost:8080/"
        },
        "outputId": "002125cc-6a20-402e-b6e4-fa74f5b68c0d"
      },
      "outputs": [
        {
          "output_type": "stream",
          "name": "stderr",
          "text": [
            "<ipython-input-11-e5540904cc6b>:27: UserWarning: Implicit dimension choice for softmax has been deprecated. Change the call to include dim=X as an argument.\n",
            "  return F.softmax(x)\n"
          ]
        },
        {
          "output_type": "stream",
          "name": "stdout",
          "text": [
            "Train epoch : 1 [0/60000(0%)]\t2.301219\n",
            "Train epoch : 1 [2000/60000(3%)]\t2.285831\n",
            "Train epoch : 1 [4000/60000(7%)]\t2.117375\n",
            "Train epoch : 1 [6000/60000(10%)]\t1.999788\n",
            "Train epoch : 1 [8000/60000(13%)]\t1.898393\n",
            "Train epoch : 1 [10000/60000(17%)]\t1.915320\n",
            "Train epoch : 1 [12000/60000(20%)]\t1.922841\n",
            "Train epoch : 1 [14000/60000(23%)]\t1.851472\n",
            "Train epoch : 1 [16000/60000(27%)]\t1.772724\n",
            "Train epoch : 1 [18000/60000(30%)]\t1.706515\n",
            "Train epoch : 1 [20000/60000(33%)]\t1.678749\n",
            "Train epoch : 1 [22000/60000(37%)]\t1.733076\n",
            "Train epoch : 1 [24000/60000(40%)]\t1.698937\n",
            "Train epoch : 1 [26000/60000(43%)]\t1.676230\n",
            "Train epoch : 1 [28000/60000(47%)]\t1.683993\n",
            "Train epoch : 1 [30000/60000(50%)]\t1.711829\n",
            "Train epoch : 1 [32000/60000(53%)]\t1.639801\n",
            "Train epoch : 1 [34000/60000(57%)]\t1.680145\n",
            "Train epoch : 1 [36000/60000(60%)]\t1.635447\n",
            "Train epoch : 1 [38000/60000(63%)]\t1.665829\n",
            "Train epoch : 1 [40000/60000(67%)]\t1.652322\n",
            "Train epoch : 1 [42000/60000(70%)]\t1.636632\n",
            "Train epoch : 1 [44000/60000(73%)]\t1.638357\n",
            "Train epoch : 1 [46000/60000(77%)]\t1.689291\n",
            "Train epoch : 1 [48000/60000(80%)]\t1.648272\n",
            "Train epoch : 1 [50000/60000(83%)]\t1.638869\n",
            "Train epoch : 1 [52000/60000(87%)]\t1.643125\n",
            "Train epoch : 1 [54000/60000(90%)]\t1.631214\n",
            "Train epoch : 1 [56000/60000(93%)]\t1.578730\n",
            "Train epoch : 1 [58000/60000(97%)]\t1.647537\n",
            "\n",
            " Test set: average loss: 0.0002, accuracy 9262/10000 (93%)\n",
            "\n",
            "Train epoch : 2 [0/60000(0%)]\t1.674600\n",
            "Train epoch : 2 [2000/60000(3%)]\t1.596304\n",
            "Train epoch : 2 [4000/60000(7%)]\t1.698598\n",
            "Train epoch : 2 [6000/60000(10%)]\t1.572353\n",
            "Train epoch : 2 [8000/60000(13%)]\t1.564469\n",
            "Train epoch : 2 [10000/60000(17%)]\t1.600665\n",
            "Train epoch : 2 [12000/60000(20%)]\t1.536438\n",
            "Train epoch : 2 [14000/60000(23%)]\t1.626090\n",
            "Train epoch : 2 [16000/60000(27%)]\t1.588756\n",
            "Train epoch : 2 [18000/60000(30%)]\t1.629453\n",
            "Train epoch : 2 [20000/60000(33%)]\t1.587893\n",
            "Train epoch : 2 [22000/60000(37%)]\t1.597549\n",
            "Train epoch : 2 [24000/60000(40%)]\t1.559558\n",
            "Train epoch : 2 [26000/60000(43%)]\t1.601951\n",
            "Train epoch : 2 [28000/60000(47%)]\t1.623967\n",
            "Train epoch : 2 [30000/60000(50%)]\t1.607229\n",
            "Train epoch : 2 [32000/60000(53%)]\t1.617511\n",
            "Train epoch : 2 [34000/60000(57%)]\t1.632040\n",
            "Train epoch : 2 [36000/60000(60%)]\t1.585478\n",
            "Train epoch : 2 [38000/60000(63%)]\t1.600207\n",
            "Train epoch : 2 [40000/60000(67%)]\t1.574058\n",
            "Train epoch : 2 [42000/60000(70%)]\t1.597252\n",
            "Train epoch : 2 [44000/60000(73%)]\t1.583226\n",
            "Train epoch : 2 [46000/60000(77%)]\t1.571457\n",
            "Train epoch : 2 [48000/60000(80%)]\t1.597712\n",
            "Train epoch : 2 [50000/60000(83%)]\t1.581080\n",
            "Train epoch : 2 [52000/60000(87%)]\t1.563607\n",
            "Train epoch : 2 [54000/60000(90%)]\t1.543583\n",
            "Train epoch : 2 [56000/60000(93%)]\t1.606848\n",
            "Train epoch : 2 [58000/60000(97%)]\t1.609822\n",
            "\n",
            " Test set: average loss: 0.0002, accuracy 9442/10000 (94%)\n",
            "\n",
            "Train epoch : 3 [0/60000(0%)]\t1.589998\n",
            "Train epoch : 3 [2000/60000(3%)]\t1.593278\n",
            "Train epoch : 3 [4000/60000(7%)]\t1.616633\n",
            "Train epoch : 3 [6000/60000(10%)]\t1.589641\n",
            "Train epoch : 3 [8000/60000(13%)]\t1.537805\n",
            "Train epoch : 3 [10000/60000(17%)]\t1.566382\n",
            "Train epoch : 3 [12000/60000(20%)]\t1.595562\n",
            "Train epoch : 3 [14000/60000(23%)]\t1.580436\n",
            "Train epoch : 3 [16000/60000(27%)]\t1.570437\n",
            "Train epoch : 3 [18000/60000(30%)]\t1.608389\n",
            "Train epoch : 3 [20000/60000(33%)]\t1.601792\n",
            "Train epoch : 3 [22000/60000(37%)]\t1.605863\n",
            "Train epoch : 3 [24000/60000(40%)]\t1.553553\n",
            "Train epoch : 3 [26000/60000(43%)]\t1.562994\n",
            "Train epoch : 3 [28000/60000(47%)]\t1.545097\n",
            "Train epoch : 3 [30000/60000(50%)]\t1.528029\n",
            "Train epoch : 3 [32000/60000(53%)]\t1.521458\n",
            "Train epoch : 3 [34000/60000(57%)]\t1.585079\n",
            "Train epoch : 3 [36000/60000(60%)]\t1.537143\n",
            "Train epoch : 3 [38000/60000(63%)]\t1.573629\n",
            "Train epoch : 3 [40000/60000(67%)]\t1.568278\n",
            "Train epoch : 3 [42000/60000(70%)]\t1.580459\n",
            "Train epoch : 3 [44000/60000(73%)]\t1.559232\n",
            "Train epoch : 3 [46000/60000(77%)]\t1.578536\n",
            "Train epoch : 3 [48000/60000(80%)]\t1.578431\n",
            "Train epoch : 3 [50000/60000(83%)]\t1.546630\n",
            "Train epoch : 3 [52000/60000(87%)]\t1.575293\n",
            "Train epoch : 3 [54000/60000(90%)]\t1.556281\n",
            "Train epoch : 3 [56000/60000(93%)]\t1.550645\n",
            "Train epoch : 3 [58000/60000(97%)]\t1.518312\n",
            "\n",
            " Test set: average loss: 0.0001, accuracy 9565/10000 (96%)\n",
            "\n",
            "Train epoch : 4 [0/60000(0%)]\t1.581391\n",
            "Train epoch : 4 [2000/60000(3%)]\t1.530738\n",
            "Train epoch : 4 [4000/60000(7%)]\t1.538280\n",
            "Train epoch : 4 [6000/60000(10%)]\t1.556577\n",
            "Train epoch : 4 [8000/60000(13%)]\t1.608727\n",
            "Train epoch : 4 [10000/60000(17%)]\t1.552527\n",
            "Train epoch : 4 [12000/60000(20%)]\t1.591350\n",
            "Train epoch : 4 [14000/60000(23%)]\t1.571196\n",
            "Train epoch : 4 [16000/60000(27%)]\t1.577717\n",
            "Train epoch : 4 [18000/60000(30%)]\t1.579630\n",
            "Train epoch : 4 [20000/60000(33%)]\t1.569952\n",
            "Train epoch : 4 [22000/60000(37%)]\t1.592427\n",
            "Train epoch : 4 [24000/60000(40%)]\t1.588871\n",
            "Train epoch : 4 [26000/60000(43%)]\t1.557195\n",
            "Train epoch : 4 [28000/60000(47%)]\t1.552407\n",
            "Train epoch : 4 [30000/60000(50%)]\t1.609746\n",
            "Train epoch : 4 [32000/60000(53%)]\t1.586083\n",
            "Train epoch : 4 [34000/60000(57%)]\t1.588202\n",
            "Train epoch : 4 [36000/60000(60%)]\t1.594822\n",
            "Train epoch : 4 [38000/60000(63%)]\t1.551023\n",
            "Train epoch : 4 [40000/60000(67%)]\t1.511728\n",
            "Train epoch : 4 [42000/60000(70%)]\t1.536772\n",
            "Train epoch : 4 [44000/60000(73%)]\t1.585950\n",
            "Train epoch : 4 [46000/60000(77%)]\t1.542758\n",
            "Train epoch : 4 [48000/60000(80%)]\t1.555327\n",
            "Train epoch : 4 [50000/60000(83%)]\t1.552371\n",
            "Train epoch : 4 [52000/60000(87%)]\t1.576284\n",
            "Train epoch : 4 [54000/60000(90%)]\t1.550061\n",
            "Train epoch : 4 [56000/60000(93%)]\t1.535174\n",
            "Train epoch : 4 [58000/60000(97%)]\t1.529327\n",
            "\n",
            " Test set: average loss: 0.0002, accuracy 9614/10000 (96%)\n",
            "\n",
            "Train epoch : 5 [0/60000(0%)]\t1.598820\n",
            "Train epoch : 5 [2000/60000(3%)]\t1.564562\n",
            "Train epoch : 5 [4000/60000(7%)]\t1.503412\n",
            "Train epoch : 5 [6000/60000(10%)]\t1.558805\n",
            "Train epoch : 5 [8000/60000(13%)]\t1.578272\n",
            "Train epoch : 5 [10000/60000(17%)]\t1.543367\n",
            "Train epoch : 5 [12000/60000(20%)]\t1.532478\n",
            "Train epoch : 5 [14000/60000(23%)]\t1.580289\n",
            "Train epoch : 5 [16000/60000(27%)]\t1.548021\n",
            "Train epoch : 5 [18000/60000(30%)]\t1.529867\n",
            "Train epoch : 5 [20000/60000(33%)]\t1.589915\n",
            "Train epoch : 5 [22000/60000(37%)]\t1.507280\n",
            "Train epoch : 5 [24000/60000(40%)]\t1.544567\n",
            "Train epoch : 5 [26000/60000(43%)]\t1.564640\n",
            "Train epoch : 5 [28000/60000(47%)]\t1.599118\n",
            "Train epoch : 5 [30000/60000(50%)]\t1.511158\n",
            "Train epoch : 5 [32000/60000(53%)]\t1.552087\n",
            "Train epoch : 5 [34000/60000(57%)]\t1.590284\n",
            "Train epoch : 5 [36000/60000(60%)]\t1.577746\n",
            "Train epoch : 5 [38000/60000(63%)]\t1.557895\n",
            "Train epoch : 5 [40000/60000(67%)]\t1.495442\n",
            "Train epoch : 5 [42000/60000(70%)]\t1.532968\n",
            "Train epoch : 5 [44000/60000(73%)]\t1.600376\n",
            "Train epoch : 5 [46000/60000(77%)]\t1.517637\n",
            "Train epoch : 5 [48000/60000(80%)]\t1.493243\n",
            "Train epoch : 5 [50000/60000(83%)]\t1.529462\n",
            "Train epoch : 5 [52000/60000(87%)]\t1.534347\n",
            "Train epoch : 5 [54000/60000(90%)]\t1.548077\n",
            "Train epoch : 5 [56000/60000(93%)]\t1.543022\n",
            "Train epoch : 5 [58000/60000(97%)]\t1.553836\n",
            "\n",
            " Test set: average loss: 0.0001, accuracy 9631/10000 (96%)\n",
            "\n",
            "Train epoch : 6 [0/60000(0%)]\t1.562327\n",
            "Train epoch : 6 [2000/60000(3%)]\t1.543011\n",
            "Train epoch : 6 [4000/60000(7%)]\t1.545085\n",
            "Train epoch : 6 [6000/60000(10%)]\t1.536736\n",
            "Train epoch : 6 [8000/60000(13%)]\t1.548346\n",
            "Train epoch : 6 [10000/60000(17%)]\t1.531554\n",
            "Train epoch : 6 [12000/60000(20%)]\t1.550004\n",
            "Train epoch : 6 [14000/60000(23%)]\t1.587617\n",
            "Train epoch : 6 [16000/60000(27%)]\t1.589545\n",
            "Train epoch : 6 [18000/60000(30%)]\t1.513388\n",
            "Train epoch : 6 [20000/60000(33%)]\t1.577454\n",
            "Train epoch : 6 [22000/60000(37%)]\t1.528958\n",
            "Train epoch : 6 [24000/60000(40%)]\t1.525205\n",
            "Train epoch : 6 [26000/60000(43%)]\t1.565165\n",
            "Train epoch : 6 [28000/60000(47%)]\t1.506556\n",
            "Train epoch : 6 [30000/60000(50%)]\t1.611624\n",
            "Train epoch : 6 [32000/60000(53%)]\t1.552401\n",
            "Train epoch : 6 [34000/60000(57%)]\t1.568796\n",
            "Train epoch : 6 [36000/60000(60%)]\t1.556913\n",
            "Train epoch : 6 [38000/60000(63%)]\t1.553046\n",
            "Train epoch : 6 [40000/60000(67%)]\t1.555183\n",
            "Train epoch : 6 [42000/60000(70%)]\t1.577744\n",
            "Train epoch : 6 [44000/60000(73%)]\t1.548277\n",
            "Train epoch : 6 [46000/60000(77%)]\t1.531830\n",
            "Train epoch : 6 [48000/60000(80%)]\t1.536306\n",
            "Train epoch : 6 [50000/60000(83%)]\t1.538855\n",
            "Train epoch : 6 [52000/60000(87%)]\t1.511125\n",
            "Train epoch : 6 [54000/60000(90%)]\t1.575454\n",
            "Train epoch : 6 [56000/60000(93%)]\t1.575077\n",
            "Train epoch : 6 [58000/60000(97%)]\t1.522745\n",
            "\n",
            " Test set: average loss: 0.0002, accuracy 9673/10000 (97%)\n",
            "\n",
            "Train epoch : 7 [0/60000(0%)]\t1.521758\n",
            "Train epoch : 7 [2000/60000(3%)]\t1.524344\n",
            "Train epoch : 7 [4000/60000(7%)]\t1.508046\n",
            "Train epoch : 7 [6000/60000(10%)]\t1.531864\n",
            "Train epoch : 7 [8000/60000(13%)]\t1.518711\n",
            "Train epoch : 7 [10000/60000(17%)]\t1.557925\n",
            "Train epoch : 7 [12000/60000(20%)]\t1.558805\n",
            "Train epoch : 7 [14000/60000(23%)]\t1.553127\n",
            "Train epoch : 7 [16000/60000(27%)]\t1.523111\n",
            "Train epoch : 7 [18000/60000(30%)]\t1.520236\n",
            "Train epoch : 7 [20000/60000(33%)]\t1.559329\n",
            "Train epoch : 7 [22000/60000(37%)]\t1.511769\n",
            "Train epoch : 7 [24000/60000(40%)]\t1.500325\n",
            "Train epoch : 7 [26000/60000(43%)]\t1.561246\n",
            "Train epoch : 7 [28000/60000(47%)]\t1.537426\n",
            "Train epoch : 7 [30000/60000(50%)]\t1.593420\n",
            "Train epoch : 7 [32000/60000(53%)]\t1.540326\n",
            "Train epoch : 7 [34000/60000(57%)]\t1.519583\n",
            "Train epoch : 7 [36000/60000(60%)]\t1.545615\n",
            "Train epoch : 7 [38000/60000(63%)]\t1.542519\n",
            "Train epoch : 7 [40000/60000(67%)]\t1.575353\n",
            "Train epoch : 7 [42000/60000(70%)]\t1.503218\n",
            "Train epoch : 7 [44000/60000(73%)]\t1.505211\n",
            "Train epoch : 7 [46000/60000(77%)]\t1.546658\n",
            "Train epoch : 7 [48000/60000(80%)]\t1.564285\n",
            "Train epoch : 7 [50000/60000(83%)]\t1.560874\n",
            "Train epoch : 7 [52000/60000(87%)]\t1.536039\n",
            "Train epoch : 7 [54000/60000(90%)]\t1.587447\n",
            "Train epoch : 7 [56000/60000(93%)]\t1.582989\n",
            "Train epoch : 7 [58000/60000(97%)]\t1.561862\n",
            "\n",
            " Test set: average loss: 0.0002, accuracy 9674/10000 (97%)\n",
            "\n",
            "Train epoch : 8 [0/60000(0%)]\t1.598124\n",
            "Train epoch : 8 [2000/60000(3%)]\t1.506924\n",
            "Train epoch : 8 [4000/60000(7%)]\t1.529208\n",
            "Train epoch : 8 [6000/60000(10%)]\t1.550996\n",
            "Train epoch : 8 [8000/60000(13%)]\t1.537434\n",
            "Train epoch : 8 [10000/60000(17%)]\t1.513685\n",
            "Train epoch : 8 [12000/60000(20%)]\t1.554855\n",
            "Train epoch : 8 [14000/60000(23%)]\t1.557027\n",
            "Train epoch : 8 [16000/60000(27%)]\t1.482884\n",
            "Train epoch : 8 [18000/60000(30%)]\t1.532322\n",
            "Train epoch : 8 [20000/60000(33%)]\t1.582495\n",
            "Train epoch : 8 [22000/60000(37%)]\t1.522576\n",
            "Train epoch : 8 [24000/60000(40%)]\t1.532514\n",
            "Train epoch : 8 [26000/60000(43%)]\t1.638406\n",
            "Train epoch : 8 [28000/60000(47%)]\t1.548814\n",
            "Train epoch : 8 [30000/60000(50%)]\t1.518244\n",
            "Train epoch : 8 [32000/60000(53%)]\t1.540898\n",
            "Train epoch : 8 [34000/60000(57%)]\t1.511269\n",
            "Train epoch : 8 [36000/60000(60%)]\t1.556401\n",
            "Train epoch : 8 [38000/60000(63%)]\t1.550104\n",
            "Train epoch : 8 [40000/60000(67%)]\t1.492688\n",
            "Train epoch : 8 [42000/60000(70%)]\t1.531334\n",
            "Train epoch : 8 [44000/60000(73%)]\t1.560836\n",
            "Train epoch : 8 [46000/60000(77%)]\t1.519858\n",
            "Train epoch : 8 [48000/60000(80%)]\t1.519237\n",
            "Train epoch : 8 [50000/60000(83%)]\t1.495831\n",
            "Train epoch : 8 [52000/60000(87%)]\t1.547755\n",
            "Train epoch : 8 [54000/60000(90%)]\t1.507744\n",
            "Train epoch : 8 [56000/60000(93%)]\t1.528643\n",
            "Train epoch : 8 [58000/60000(97%)]\t1.525961\n",
            "\n",
            " Test set: average loss: 0.0001, accuracy 9697/10000 (97%)\n",
            "\n",
            "Train epoch : 9 [0/60000(0%)]\t1.508160\n",
            "Train epoch : 9 [2000/60000(3%)]\t1.565000\n",
            "Train epoch : 9 [4000/60000(7%)]\t1.545416\n",
            "Train epoch : 9 [6000/60000(10%)]\t1.510360\n",
            "Train epoch : 9 [8000/60000(13%)]\t1.540734\n",
            "Train epoch : 9 [10000/60000(17%)]\t1.533653\n",
            "Train epoch : 9 [12000/60000(20%)]\t1.524733\n",
            "Train epoch : 9 [14000/60000(23%)]\t1.523048\n",
            "Train epoch : 9 [16000/60000(27%)]\t1.545391\n",
            "Train epoch : 9 [18000/60000(30%)]\t1.511176\n",
            "Train epoch : 9 [20000/60000(33%)]\t1.528671\n",
            "Train epoch : 9 [22000/60000(37%)]\t1.526176\n",
            "Train epoch : 9 [24000/60000(40%)]\t1.554299\n",
            "Train epoch : 9 [26000/60000(43%)]\t1.526271\n",
            "Train epoch : 9 [28000/60000(47%)]\t1.527458\n",
            "Train epoch : 9 [30000/60000(50%)]\t1.563096\n",
            "Train epoch : 9 [32000/60000(53%)]\t1.611896\n",
            "Train epoch : 9 [34000/60000(57%)]\t1.487238\n",
            "Train epoch : 9 [36000/60000(60%)]\t1.528091\n",
            "Train epoch : 9 [38000/60000(63%)]\t1.529268\n",
            "Train epoch : 9 [40000/60000(67%)]\t1.563188\n",
            "Train epoch : 9 [42000/60000(70%)]\t1.561077\n",
            "Train epoch : 9 [44000/60000(73%)]\t1.547329\n",
            "Train epoch : 9 [46000/60000(77%)]\t1.524839\n",
            "Train epoch : 9 [48000/60000(80%)]\t1.555568\n",
            "Train epoch : 9 [50000/60000(83%)]\t1.503837\n",
            "Train epoch : 9 [52000/60000(87%)]\t1.540935\n",
            "Train epoch : 9 [54000/60000(90%)]\t1.567305\n",
            "Train epoch : 9 [56000/60000(93%)]\t1.569120\n",
            "Train epoch : 9 [58000/60000(97%)]\t1.497006\n",
            "\n",
            " Test set: average loss: 0.0001, accuracy 9716/10000 (97%)\n",
            "\n",
            "Train epoch : 10 [0/60000(0%)]\t1.554426\n",
            "Train epoch : 10 [2000/60000(3%)]\t1.510015\n",
            "Train epoch : 10 [4000/60000(7%)]\t1.559366\n",
            "Train epoch : 10 [6000/60000(10%)]\t1.548656\n",
            "Train epoch : 10 [8000/60000(13%)]\t1.527035\n",
            "Train epoch : 10 [10000/60000(17%)]\t1.520469\n",
            "Train epoch : 10 [12000/60000(20%)]\t1.536927\n",
            "Train epoch : 10 [14000/60000(23%)]\t1.532474\n",
            "Train epoch : 10 [16000/60000(27%)]\t1.537681\n",
            "Train epoch : 10 [18000/60000(30%)]\t1.519233\n",
            "Train epoch : 10 [20000/60000(33%)]\t1.532912\n",
            "Train epoch : 10 [22000/60000(37%)]\t1.539186\n",
            "Train epoch : 10 [24000/60000(40%)]\t1.506868\n",
            "Train epoch : 10 [26000/60000(43%)]\t1.526188\n",
            "Train epoch : 10 [28000/60000(47%)]\t1.507333\n",
            "Train epoch : 10 [30000/60000(50%)]\t1.523042\n",
            "Train epoch : 10 [32000/60000(53%)]\t1.557639\n",
            "Train epoch : 10 [34000/60000(57%)]\t1.533082\n",
            "Train epoch : 10 [36000/60000(60%)]\t1.538796\n",
            "Train epoch : 10 [38000/60000(63%)]\t1.541619\n",
            "Train epoch : 10 [40000/60000(67%)]\t1.505478\n",
            "Train epoch : 10 [42000/60000(70%)]\t1.571843\n",
            "Train epoch : 10 [44000/60000(73%)]\t1.497854\n",
            "Train epoch : 10 [46000/60000(77%)]\t1.525891\n",
            "Train epoch : 10 [48000/60000(80%)]\t1.541335\n",
            "Train epoch : 10 [50000/60000(83%)]\t1.586030\n",
            "Train epoch : 10 [52000/60000(87%)]\t1.506524\n",
            "Train epoch : 10 [54000/60000(90%)]\t1.542376\n",
            "Train epoch : 10 [56000/60000(93%)]\t1.531029\n",
            "Train epoch : 10 [58000/60000(97%)]\t1.543356\n",
            "\n",
            " Test set: average loss: 0.0001, accuracy 9723/10000 (97%)\n",
            "\n"
          ]
        }
      ],
      "source": [
        "for epoch in range(1, 11):\n",
        "  train(epoch)\n",
        "  test()"
      ]
    },
    {
      "cell_type": "code",
      "source": [
        "def evalute(img_index):\n",
        "  model.eval()\n",
        "  data, target = test_data[img_index]\n",
        "  data = data.unsqueeze(0).to(device)\n",
        "  output = model(data)\n",
        "  prediction = output.argmax(dim=1, keepdim=True)\n",
        "  print(f'Prediction: {prediction.item()}, Actual: {target}')\n",
        "  image = data.squeeze(0).squeeze(0).cpu().numpy()\n",
        "  plt.imshow(image, cmap='gray')\n",
        "  plt.show()"
      ],
      "metadata": {
        "id": "Nn1Y5E0i-1g8"
      },
      "execution_count": 14,
      "outputs": []
    },
    {
      "cell_type": "code",
      "source": [
        "evalute(0)"
      ],
      "metadata": {
        "colab": {
          "base_uri": "https://localhost:8080/",
          "height": 503
        },
        "id": "FsPF91ul8GyM",
        "outputId": "ba4418ee-9a53-4432-aa7e-46cfa7069886"
      },
      "execution_count": 16,
      "outputs": [
        {
          "output_type": "stream",
          "name": "stdout",
          "text": [
            "Prediction: 7, Actual: 7\n"
          ]
        },
        {
          "output_type": "stream",
          "name": "stderr",
          "text": [
            "<ipython-input-11-e5540904cc6b>:27: UserWarning: Implicit dimension choice for softmax has been deprecated. Change the call to include dim=X as an argument.\n",
            "  return F.softmax(x)\n"
          ]
        },
        {
          "output_type": "display_data",
          "data": {
            "text/plain": [
              "<Figure size 640x480 with 1 Axes>"
            ],
            "image/png": "[encoded data removed]"
          },
          "metadata": {}
        }
      ]
    },
    {
      "cell_type": "code",
      "source": [
        "evalute(10)"
      ],
      "metadata": {
        "colab": {
          "base_uri": "https://localhost:8080/",
          "height": 503
        },
        "id": "eyiVR-6E-xA_",
        "outputId": "5bd0fc0f-5c9a-43e5-f472-ef36411c204d"
      },
      "execution_count": 17,
      "outputs": [
        {
          "output_type": "stream",
          "name": "stderr",
          "text": [
            "<ipython-input-11-e5540904cc6b>:27: UserWarning: Implicit dimension choice for softmax has been deprecated. Change the call to include dim=X as an argument.\n",
            "  return F.softmax(x)\n"
          ]
        },
        {
          "output_type": "stream",
          "name": "stdout",
          "text": [
            "Prediction: 0, Actual: 0\n"
          ]
        },
        {
          "output_type": "display_data",
          "data": {
            "text/plain": [
              "<Figure size 640x480 with 1 Axes>"
            ],
            "image/png": "[encoded data removed]"
          },
          "metadata": {}
        }
      ]
    },
    {
      "cell_type": "code",
      "source": [
        "evalute(5)"
      ],
      "metadata": {
        "colab": {
          "base_uri": "https://localhost:8080/",
          "height": 503
        },
        "id": "brbXVyO7_DC0",
        "outputId": "668b97bb-dc61-49bd-b8e3-8aea7b20e2bc"
      },
      "execution_count": 18,
      "outputs": [
        {
          "output_type": "stream",
          "name": "stdout",
          "text": [
            "Prediction: 1, Actual: 1\n"
          ]
        },
        {
          "output_type": "stream",
          "name": "stderr",
          "text": [
            "<ipython-input-11-e5540904cc6b>:27: UserWarning: Implicit dimension choice for softmax has been deprecated. Change the call to include dim=X as an argument.\n",
            "  return F.softmax(x)\n"
          ]
        },
        {
          "output_type": "display_data",
          "data": {
            "text/plain": [
              "<Figure size 640x480 with 1 Axes>"
            ],
            "image/png": "[encoded data removed]"
          },
          "metadata": {}
        }
      ]
    },
    {
      "cell_type": "code",
      "source": [
        "def evaluate_false_predictions(model, test_loader):\n",
        "    model.eval()\n",
        "    incorrect_images = []\n",
        "\n",
        "    # Loop through the test loader to get the data and predictions\n",
        "    for data, target in test_loader:\n",
        "        data, target = data.to(device), target.to(device)\n",
        "        output = model(data)\n",
        "        pred = output.argmax(dim=1, keepdim=True)\n",
        "\n",
        "        # Check for incorrect predictions\n",
        "        incorrect_indices = (pred != target.view_as(pred)).nonzero(as_tuple=True)[0]\n",
        "        i = 0\n",
        "        # Collect incorrect images and their info\n",
        "        for idx in incorrect_indices:\n",
        "            incorrect_images.append((data[idx], target[idx], pred[idx]))\n",
        "            i += 1  # Increment after collecting each incorrect image\n",
        "            if i >= 5:  # Stop after collecting 5 incorrect images\n",
        "                break\n",
        "        if i >= 5:\n",
        "            break\n",
        "\n",
        "    # Display the incorrect predictions\n",
        "    for img, actual, predicted in incorrect_images:\n",
        "        img = img.squeeze(0).cpu().numpy()  # Convert the image to numpy array for display\n",
        "        plt.imshow(img, cmap='gray')\n",
        "        plt.title(f'Prediction: {predicted.item()}, Actual: {actual.item()}')\n",
        "        plt.show()\n",
        "\n",
        "evaluate_false_predictions(model, loaders['test'])\n"
      ],
      "metadata": {
        "colab": {
          "base_uri": "https://localhost:8080/",
          "height": 1000
        },
        "id": "r8cscZnn_Lbm",
        "outputId": "658aa9ee-2b4a-47cb-ad50-1b59faeb7270"
      },
      "execution_count": 21,
      "outputs": [
        {
          "output_type": "stream",
          "name": "stderr",
          "text": [
            "<ipython-input-11-e5540904cc6b>:27: UserWarning: Implicit dimension choice for softmax has been deprecated. Change the call to include dim=X as an argument.\n",
            "  return F.softmax(x)\n"
          ]
        },
        {
          "output_type": "display_data",
          "data": {
            "text/plain": [
              "<Figure size 640x480 with 1 Axes>"
            ],
            "image/png": "[encoded data removed]"
          },
          "metadata": {}
        },
        {
          "output_type": "display_data",
          "data": {
            "text/plain": [
              "<Figure size 640x480 with 1 Axes>"
            ],
            "image/png": "[encoded data removed]"
          },
          "metadata": {}
        },
        {
          "output_type": "display_data",
          "data": {
            "text/plain": [
              "<Figure size 640x480 with 1 Axes>"
            ],
            "image/png": "[encoded data removed]"
          },
          "metadata": {}
        },
        {
          "output_type": "display_data",
          "data": {
            "text/plain": [
              "<Figure size 640x480 with 1 Axes>"
            ],
            "image/png": "[encoded data removed]"
          },
          "metadata": {}
        },
        {
          "output_type": "display_data",
          "data": {
            "text/plain": [
              "<Figure size 640x480 with 1 Axes>"
            ],
            "image/png": "[encoded data removed]"
          },
          "metadata": {}
        }
      ]
    },
    {
      "cell_type": "code",
      "source": [],
      "metadata": {
        "id": "oIfIlmVI_oX7"
      },
      "execution_count": null,
      "outputs": []
    }
  ],
  "metadata": {
    "colab": {
      "provenance": []
    },
    "kernelspec": {
      "display_name": "Python 3",
      "name": "python3"
    },
    "language_info": {
      "name": "python"
    }
  },
  "nbformat": 4,
  "nbformat_minor": 0
}